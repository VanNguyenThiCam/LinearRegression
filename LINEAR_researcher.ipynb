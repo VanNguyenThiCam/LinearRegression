{
  "nbformat": 4,
  "nbformat_minor": 0,
  "metadata": {
    "colab": {
      "name": "LINEAR_researcher.ipynb",
      "provenance": [],
      "authorship_tag": "ABX9TyOcki1rLvHExy7mv2ztUZgg",
      "include_colab_link": true
    },
    "kernelspec": {
      "name": "python3",
      "display_name": "Python 3"
    },
    "language_info": {
      "name": "python"
    },
    "accelerator": "GPU"
  },
  "cells": [
    {
      "cell_type": "markdown",
      "metadata": {
        "id": "view-in-github",
        "colab_type": "text"
      },
      "source": [
        "<a href=\"https://colab.research.google.com/github/VanNguyenThiCam/LinearRegression/blob/main/LINEAR_researcher.ipynb\" target=\"_parent\"><img src=\"https://colab.research.google.com/assets/colab-badge.svg\" alt=\"Open In Colab\"/></a>"
      ]
    },
    {
      "cell_type": "markdown",
      "source": [
        "# MÔ HÌNH TUYẾN TÍNH (LINEAR MODEL)\n",
        "\n",
        "Bắt đầu từ những hàm cơ bản từ numpy, tensorflow"
      ],
      "metadata": {
        "id": "0NweQfpFiedB"
      }
    },
    {
      "cell_type": "code",
      "source": [
        "import tensorflow as tf\n",
        "import numpy as np\n",
        "\n",
        "#chuẩn bị data\n",
        "\n",
        "from google.colab import drive #cách lấy dữ liệu trên google.colab \n",
        "drive.mount('/content/gdrive')"
      ],
      "metadata": {
        "id": "vuWi6R5oih2I",
        "colab": {
          "base_uri": "https://localhost:8080/"
        },
        "outputId": "91335d71-110a-4494-fdbc-346132b6866c"
      },
      "execution_count": 2,
      "outputs": [
        {
          "output_type": "stream",
          "name": "stdout",
          "text": [
            "Drive already mounted at /content/gdrive; to attempt to forcibly remount, call drive.mount(\"/content/gdrive\", force_remount=True).\n"
          ]
        }
      ]
    },
    {
      "cell_type": "code",
      "source": [
        "data = np.genfromtxt('/content/gdrive/MyDrive/Colab Notebooks/Data/data.csv',delimiter =',')\n",
        "\n",
        "n = 4\n",
        "X = data[:,0:1]\n",
        "y = data[:,1:]"
      ],
      "metadata": {
        "id": "QUqm0LI3cuVQ"
      },
      "execution_count": 3,
      "outputs": []
    },
    {
      "cell_type": "code",
      "source": [
        "#khởi tạo mô hình tuyến tính\n",
        "\n",
        "class Model(object):\n",
        "     def __init__(self):\n",
        "         self.W = tf.Variable(-0.34)\n",
        "         self.b = tf.Variable(0.04)\n",
        "     def __call__(self,x):\n",
        "         return self.W*x + self.b\n",
        "\n",
        "model = Model()"
      ],
      "metadata": {
        "id": "aMuxxIWMdQJr"
      },
      "execution_count": 4,
      "outputs": []
    },
    {
      "cell_type": "code",
      "source": [
        "print(X) #kiểm tra thử đã xuất ra đúng data chưa"
      ],
      "metadata": {
        "colab": {
          "base_uri": "https://localhost:8080/"
        },
        "id": "PHHabqIkeKxy",
        "outputId": "c2dcfb30-c770-4f28-e0cc-d3dbabf8d2b6"
      },
      "execution_count": 5,
      "outputs": [
        {
          "output_type": "stream",
          "name": "stdout",
          "text": [
            "[[6.7]\n",
            " [4.6]\n",
            " [3.5]\n",
            " [5.5]]\n"
          ]
        }
      ]
    },
    {
      "cell_type": "code",
      "source": [
        "print(X.shape)"
      ],
      "metadata": {
        "colab": {
          "base_uri": "https://localhost:8080/"
        },
        "id": "nhzMNcjzeOUH",
        "outputId": "6012dbe3-483e-4646-dcaa-7f9d5b28d4f6"
      },
      "execution_count": 6,
      "outputs": [
        {
          "output_type": "stream",
          "name": "stdout",
          "text": [
            "(4, 1)\n"
          ]
        }
      ]
    },
    {
      "cell_type": "code",
      "source": [
        "y_hat = model(X)\n",
        "print(y_hat)"
      ],
      "metadata": {
        "colab": {
          "base_uri": "https://localhost:8080/"
        },
        "id": "frOpzHULed4O",
        "outputId": "35c4a919-fbb3-4a04-fc8a-65ae10787e16"
      },
      "execution_count": 7,
      "outputs": [
        {
          "output_type": "stream",
          "name": "stdout",
          "text": [
            "tf.Tensor(\n",
            "[[-2.238    ]\n",
            " [-1.524    ]\n",
            " [-1.1500001]\n",
            " [-1.83     ]], shape=(4, 1), dtype=float32)\n"
          ]
        }
      ]
    },
    {
      "cell_type": "code",
      "source": [
        "loss = (y-y_hat)**2\n",
        "print(loss.numpy()) # nếu không .numpy() thì nó xuất ra kiểu tensor "
      ],
      "metadata": {
        "colab": {
          "base_uri": "https://localhost:8080/"
        },
        "id": "dTQJJ2_DesNE",
        "outputId": "0706e89d-a178-436d-98a6-683a7e40ac54"
      },
      "execution_count": 9,
      "outputs": [
        {
          "output_type": "stream",
          "name": "stdout",
          "text": [
            "[[128.55026 ]\n",
            " [ 55.11578 ]\n",
            " [ 33.0625  ]\n",
            " [ 72.760895]]\n"
          ]
        }
      ]
    },
    {
      "cell_type": "code",
      "source": [
        "#training mô hình\n",
        "\n",
        "learning_rate = 0.01\n",
        "epochs  = 100\n",
        "\n",
        "losses =[]\n",
        "\n",
        "for epoch in range(epochs):\n",
        "\n",
        "\n"
      ],
      "metadata": {
        "id": "28ii23Ihd3sC"
      },
      "execution_count": null,
      "outputs": []
    }
  ]
}