{
  "nbformat": 4,
  "nbformat_minor": 0,
  "metadata": {
    "colab": {
      "name": "LINEAR_researcher.ipynb",
      "provenance": [],
      "authorship_tag": "ABX9TyN+coKuUnqDvg/PGaIui0Uu",
      "include_colab_link": true
    },
    "kernelspec": {
      "name": "python3",
      "display_name": "Python 3"
    },
    "language_info": {
      "name": "python"
    },
    "accelerator": "GPU"
  },
  "cells": [
    {
      "cell_type": "markdown",
      "metadata": {
        "id": "view-in-github",
        "colab_type": "text"
      },
      "source": [
        "<a href=\"https://colab.research.google.com/github/VanNguyenThiCam/LinearRegression/blob/main/LINEAR_researcher.ipynb\" target=\"_parent\"><img src=\"https://colab.research.google.com/assets/colab-badge.svg\" alt=\"Open In Colab\"/></a>"
      ]
    },
    {
      "cell_type": "markdown",
      "source": [
        "# MÔ HÌNH TUYẾN TÍNH (LINEAR MODEL)\n",
        "\n",
        "Bắt đầu từ những hàm cơ bản từ numpy, tensorflow"
      ],
      "metadata": {
        "id": "0NweQfpFiedB"
      }
    },
    {
      "cell_type": "code",
      "source": [
        "import tensorflow as tf\n",
        "import numpy as np\n",
        "\n",
        "#chuẩn bị data\n",
        "\n",
        "from google.colab import drive #cách lấy dữ liệu trên google.colab \n",
        "drive.mount('/content/gdrive')"
      ],
      "metadata": {
        "id": "vuWi6R5oih2I",
        "colab": {
          "base_uri": "https://localhost:8080/"
        },
        "outputId": "3c58c7f4-9a05-4a00-a0b6-e154740247cc"
      },
      "execution_count": 2,
      "outputs": [
        {
          "output_type": "stream",
          "name": "stdout",
          "text": [
            "Mounted at /content/gdrive\n"
          ]
        }
      ]
    },
    {
      "cell_type": "code",
      "source": [
        "data = np.genfromtxt('/content/gdrive/MyDrive/Colab Notebooks/Data/data.csv',delimiter =',')\n",
        "\n",
        "n = 4\n",
        "X = data[:,0:1]\n",
        "y = data[:,1:]"
      ],
      "metadata": {
        "id": "QUqm0LI3cuVQ"
      },
      "execution_count": 3,
      "outputs": []
    },
    {
      "cell_type": "markdown",
      "source": [
        "**Ôn lại hàm class trong python**\n",
        "\n",
        "class SGD:\n",
        "     def __int__(self,lr): Khởi tạo tham số đầu vào là lr\n",
        "        self.lr = lr #self.lr bản thân của biến đó sẽ tự lưu \n",
        "\n",
        "     def __call__(self,value):\n",
        "        self.lr = self.lr + value\n",
        "\n",
        "sgd_instance = SGD(0.1)\n",
        "sgd_instance(0.3)\n",
        "print(sgd_instance.lr)"
      ],
      "metadata": {
        "id": "2XLi8lkD-7tT"
      }
    },
    {
      "cell_type": "code",
      "source": [
        "#khởi tạo mô hình tuyến tính\n",
        "\n",
        "class Model(object):\n",
        "     def __init__(self): #khởi taọ giá trị tham số ban đầu \n",
        "         self.W = tf.Variable(-0.34)\n",
        "         self.b = tf.Variable(0.04)\n",
        "     def __call__(self,x):\n",
        "         return self.W*x + self.b\n",
        "\n",
        "model = Model()"
      ],
      "metadata": {
        "id": "aMuxxIWMdQJr"
      },
      "execution_count": 4,
      "outputs": []
    },
    {
      "cell_type": "code",
      "source": [
        "print(X) #kiểm tra thử đã xuất ra đúng data chưa"
      ],
      "metadata": {
        "colab": {
          "base_uri": "https://localhost:8080/"
        },
        "id": "PHHabqIkeKxy",
        "outputId": "4ddc4bbd-ebda-413e-a271-6a066aacc490"
      },
      "execution_count": 5,
      "outputs": [
        {
          "output_type": "stream",
          "name": "stdout",
          "text": [
            "[[6.7]\n",
            " [4.6]\n",
            " [3.5]\n",
            " [5.5]]\n"
          ]
        }
      ]
    },
    {
      "cell_type": "code",
      "source": [
        "print(y)"
      ],
      "metadata": {
        "colab": {
          "base_uri": "https://localhost:8080/"
        },
        "id": "sSJOYGhSGakd",
        "outputId": "36f1c138-27f7-41ee-cc73-1faf73cca3d9"
      },
      "execution_count": 18,
      "outputs": [
        {
          "output_type": "stream",
          "name": "stdout",
          "text": [
            "[[9.1]\n",
            " [5.9]\n",
            " [4.6]\n",
            " [6.7]]\n"
          ]
        }
      ]
    },
    {
      "cell_type": "code",
      "source": [
        "print(X.shape)"
      ],
      "metadata": {
        "colab": {
          "base_uri": "https://localhost:8080/"
        },
        "id": "nhzMNcjzeOUH",
        "outputId": "cf9b0f5a-fd2c-41b7-e4aa-d15f81670bc1"
      },
      "execution_count": 6,
      "outputs": [
        {
          "output_type": "stream",
          "name": "stdout",
          "text": [
            "(4, 1)\n"
          ]
        }
      ]
    },
    {
      "cell_type": "code",
      "source": [
        "y_hat = model(X)\n",
        "print(y_hat)"
      ],
      "metadata": {
        "colab": {
          "base_uri": "https://localhost:8080/"
        },
        "id": "frOpzHULed4O",
        "outputId": "9d51adf6-ca17-4644-9932-75675ecc0ff9"
      },
      "execution_count": 7,
      "outputs": [
        {
          "output_type": "stream",
          "name": "stdout",
          "text": [
            "tf.Tensor(\n",
            "[[-2.238    ]\n",
            " [-1.524    ]\n",
            " [-1.1500001]\n",
            " [-1.83     ]], shape=(4, 1), dtype=float32)\n"
          ]
        }
      ]
    },
    {
      "cell_type": "code",
      "source": [
        "loss = (y-y_hat)**2\n",
        "print(loss.numpy()) # nếu không .numpy() thì nó xuất ra kiểu tensor "
      ],
      "metadata": {
        "colab": {
          "base_uri": "https://localhost:8080/"
        },
        "id": "dTQJJ2_DesNE",
        "outputId": "dbaf49f6-a8b4-4037-afe7-05925cc0502a"
      },
      "execution_count": 8,
      "outputs": [
        {
          "output_type": "stream",
          "name": "stdout",
          "text": [
            "[[128.55026 ]\n",
            " [ 55.11578 ]\n",
            " [ 33.0625  ]\n",
            " [ 72.760895]]\n"
          ]
        }
      ]
    },
    {
      "cell_type": "code",
      "source": [
        "#training mô hình\n",
        "\n",
        "learning_rate = 0.01\n",
        "epochs  = 100\n",
        "\n",
        "losses =[]\n",
        "\n",
        "for epoch in range(epochs):\n",
        "    with tf.GradientTape() as t:\n",
        "        #y mũ\n",
        "        y_hat = model(X)\n",
        "\n",
        "        #hàm mất mát\n",
        "        loss_v = tf.reduce_mean(tf.square(y_hat - y))\n",
        "        #có thể viết cách khác không dùng hàm\n",
        "        #loss_v = tf.reduce_mean(y_hat-y)**2\n",
        "\n",
        "        losses.append(loss_v.numpy())\n",
        "\n",
        "        #tính đạo hàm\n",
        "        dW,db = t.gradient(loss_v,[model.W,model.b])\n",
        "        \n",
        "        #cách viết riêng \n",
        "        #dW = t.gradient(loss_v, model.W)\n",
        "        #db = t.gradient(loss_v, model.b)\n",
        "\n",
        "\n",
        "        #cập nhật tham số\n",
        "\n",
        "        model.W.assign_sub(learning_rate*dW)  \n",
        "\n",
        "        #Có thể viết cách khác model.W = model.W - learning_rate*dW \n",
        "        model.b.assign_sub(learning_rate*db)\n",
        "\n"
      ],
      "metadata": {
        "id": "28ii23Ihd3sC"
      },
      "execution_count": 14,
      "outputs": []
    },
    {
      "cell_type": "code",
      "source": [
        "import matplotlib.pyplot as plt\n",
        "\n",
        "#vẽ hàm mất mát\n",
        "\n",
        "plt.plot(losses)\n",
        "plt.xlabel('iteration')\n",
        "plt.ylabel('Loss')\n",
        "plt.show()"
      ],
      "metadata": {
        "colab": {
          "base_uri": "https://localhost:8080/",
          "height": 279
        },
        "id": "q0mAmgMgELdr",
        "outputId": "f5bbc091-aca4-4252-8117-85a2e07d3c1c"
      },
      "execution_count": 15,
      "outputs": [
        {
          "output_type": "display_data",
          "data": {
            "text/plain": [
              "<Figure size 432x288 with 1 Axes>"
            ],
            "image/png": "[encoded data removed]"
          },
          "metadata": {
            "needs_background": "light"
          }
        }
      ]
    },
    {
      "cell_type": "code",
      "source": [
        "model.W"
      ],
      "metadata": {
        "colab": {
          "base_uri": "https://localhost:8080/"
        },
        "id": "5JyBJc34GM2e",
        "outputId": "753bc74d-82b4-4e9b-ffb6-1c74b3da04eb"
      },
      "execution_count": 17,
      "outputs": [
        {
          "output_type": "execute_result",
          "data": {
            "text/plain": [
              "<tf.Variable 'Variable:0' shape=() dtype=float32, numpy=1.2552931>"
            ]
          },
          "metadata": {},
          "execution_count": 17
        }
      ]
    },
    {
      "cell_type": "code",
      "source": [
        "y_hat = model(X)\n",
        "print(y_hat)"
      ],
      "metadata": {
        "colab": {
          "base_uri": "https://localhost:8080/"
        },
        "id": "Wx26XcXlEfR8",
        "outputId": "e2b06c6c-7f00-47c3-9b85-eb28ac02f98e"
      },
      "execution_count": 11,
      "outputs": [
        {
          "output_type": "stream",
          "name": "stdout",
          "text": [
            "tf.Tensor(\n",
            "[[8.637505 ]\n",
            " [6.0139856]\n",
            " [4.639762 ]\n",
            " [7.138351 ]], shape=(4, 1), dtype=float32)\n"
          ]
        }
      ]
    },
    {
      "cell_type": "code",
      "source": [
        ""
      ],
      "metadata": {
        "id": "F7LBq_m3FAd2"
      },
      "execution_count": null,
      "outputs": []
    }
  ]
}