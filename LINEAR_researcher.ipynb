{
  "nbformat": 4,
  "nbformat_minor": 0,
  "metadata": {
    "colab": {
      "name": "LINEAR_researcher.ipynb",
      "provenance": [],
      "authorship_tag": "ABX9TyOd49z0JBWWD9RNmTacn36m",
      "include_colab_link": true
    },
    "kernelspec": {
      "name": "python3",
      "display_name": "Python 3"
    },
    "language_info": {
      "name": "python"
    },
    "accelerator": "GPU"
  },
  "cells": [
    {
      "cell_type": "markdown",
      "metadata": {
        "id": "view-in-github",
        "colab_type": "text"
      },
      "source": [
        "<a href=\"https://colab.research.google.com/github/VanNguyenThiCam/LinearRegression/blob/main/LINEAR_researcher.ipynb\" target=\"_parent\"><img src=\"https://colab.research.google.com/assets/colab-badge.svg\" alt=\"Open In Colab\"/></a>"
      ]
    },
    {
      "cell_type": "markdown",
      "source": [
        "# MÔ HÌNH TUYẾN TÍNH (LINEAR MODEL)\n",
        "\n",
        "Bắt đầu từ những hàm cơ bản từ numpy, tensorflow"
      ],
      "metadata": {
        "id": "0NweQfpFiedB"
      }
    },
    {
      "cell_type": "code",
      "source": [
        "import tensorflow as tf\n",
        "import numpy as np\n",
        "\n",
        "#chuẩn bị data\n",
        "\n",
        "from google.colab import drive #cách lấy dữ liệu trên google.colab \n",
        "drive.mount('/content/gdrive')"
      ],
      "metadata": {
        "id": "vuWi6R5oih2I",
        "colab": {
          "base_uri": "https://localhost:8080/"
        },
        "outputId": "e70c9239-5d83-41ee-90c4-5b9496d89f00"
      },
      "execution_count": 1,
      "outputs": [
        {
          "output_type": "stream",
          "name": "stdout",
          "text": [
            "Mounted at /content/gdrive\n"
          ]
        }
      ]
    },
    {
      "cell_type": "code",
      "source": [
        "data = np.genfromtxt('/content/gdrive/MyDrive/Colab Notebooks/Data/data.csv',delimiter =',')\n",
        "\n",
        "n = 4\n",
        "X = data[:,0:1]\n",
        "y = data[:,1:]"
      ],
      "metadata": {
        "id": "QUqm0LI3cuVQ"
      },
      "execution_count": 2,
      "outputs": []
    },
    {
      "cell_type": "markdown",
      "source": [
        "**Ôn lại hàm class trong python**\n",
        "\n",
        "class SGD:\n",
        "     def __int__(self,lr): Khởi tạo tham số đầu vào là lr\n",
        "        self.lr = lr #self.lr bản thân của biến đó sẽ tự lưu \n",
        "\n",
        "     def __call__(self,value):\n",
        "        self.lr = self.lr + value\n",
        "\n",
        "sgd_instance = SGD(0.1)\n",
        "sgd_instance(0.3)\n",
        "print(sgd_instance.lr)"
      ],
      "metadata": {
        "id": "2XLi8lkD-7tT"
      }
    },
    {
      "cell_type": "code",
      "source": [
        "#khởi tạo mô hình tuyến tính\n",
        "\n",
        "class Model(object):\n",
        "     def __init__(self): #khởi taọ giá trị tham số ban đầu \n",
        "         self.W = tf.Variable(-0.34)\n",
        "         self.b = tf.Variable(0.04)\n",
        "     def __call__(self,x):\n",
        "         return self.W*x + self.b\n",
        "\n",
        "model = Model()"
      ],
      "metadata": {
        "id": "aMuxxIWMdQJr"
      },
      "execution_count": 3,
      "outputs": []
    },
    {
      "cell_type": "code",
      "source": [
        "print(X) #kiểm tra thử đã xuất ra đúng data chưa"
      ],
      "metadata": {
        "colab": {
          "base_uri": "https://localhost:8080/"
        },
        "id": "PHHabqIkeKxy",
        "outputId": "4eff5662-052c-4d01-ce0e-d44f1d90a877"
      },
      "execution_count": 4,
      "outputs": [
        {
          "output_type": "stream",
          "name": "stdout",
          "text": [
            "[[6.7]\n",
            " [4.6]\n",
            " [3.5]\n",
            " [5.5]]\n"
          ]
        }
      ]
    },
    {
      "cell_type": "code",
      "source": [
        "print(y)"
      ],
      "metadata": {
        "colab": {
          "base_uri": "https://localhost:8080/"
        },
        "id": "sSJOYGhSGakd",
        "outputId": "2868d6a2-1bd1-445f-8251-ce7de63f5da8"
      },
      "execution_count": 5,
      "outputs": [
        {
          "output_type": "stream",
          "name": "stdout",
          "text": [
            "[[9.1]\n",
            " [5.9]\n",
            " [4.6]\n",
            " [6.7]]\n"
          ]
        }
      ]
    },
    {
      "cell_type": "code",
      "source": [
        "print(X.shape)"
      ],
      "metadata": {
        "colab": {
          "base_uri": "https://localhost:8080/"
        },
        "id": "nhzMNcjzeOUH",
        "outputId": "6e09b0bc-78ff-47d8-e624-fe095cc3fe44"
      },
      "execution_count": 6,
      "outputs": [
        {
          "output_type": "stream",
          "name": "stdout",
          "text": [
            "(4, 1)\n"
          ]
        }
      ]
    },
    {
      "cell_type": "code",
      "source": [
        "y_hat = model(X)\n",
        "print(y_hat)"
      ],
      "metadata": {
        "colab": {
          "base_uri": "https://localhost:8080/"
        },
        "id": "frOpzHULed4O",
        "outputId": "b196937d-2a00-4db7-e209-ffe816e2f3f6"
      },
      "execution_count": 7,
      "outputs": [
        {
          "output_type": "stream",
          "name": "stdout",
          "text": [
            "tf.Tensor(\n",
            "[[-2.238    ]\n",
            " [-1.524    ]\n",
            " [-1.1500001]\n",
            " [-1.83     ]], shape=(4, 1), dtype=float32)\n"
          ]
        }
      ]
    },
    {
      "cell_type": "code",
      "source": [
        "loss = (y-y_hat)**2\n",
        "print(loss.numpy()) # nếu không .numpy() thì nó xuất ra kiểu tensor "
      ],
      "metadata": {
        "colab": {
          "base_uri": "https://localhost:8080/"
        },
        "id": "dTQJJ2_DesNE",
        "outputId": "94420987-c4b3-48db-daa4-5f726a80d996"
      },
      "execution_count": 8,
      "outputs": [
        {
          "output_type": "stream",
          "name": "stdout",
          "text": [
            "[[128.55026 ]\n",
            " [ 55.11578 ]\n",
            " [ 33.0625  ]\n",
            " [ 72.760895]]\n"
          ]
        }
      ]
    },
    {
      "cell_type": "code",
      "source": [
        "#training mô hình\n",
        "\n",
        "learning_rate = 0.01\n",
        "epochs  = 100\n",
        "\n",
        "losses =[]\n",
        "\n",
        "for epoch in range(epochs):\n",
        "    with tf.GradientTape() as t:\n",
        "        #y mũ\n",
        "        y_hat = model(X)\n",
        "\n",
        "        #hàm mất mát\n",
        "        loss_v = tf.reduce_mean(tf.square(y_hat - y))\n",
        "        #có thể viết cách khác không dùng hàm\n",
        "        #loss_v = tf.reduce_mean(y_hat-y)**2\n",
        "\n",
        "        losses.append(loss_v.numpy())\n",
        "\n",
        "        #tính đạo hàm\n",
        "        dW,db = t.gradient(loss_v,[model.W,model.b])\n",
        "        \n",
        "        #cách viết riêng \n",
        "        #dW = t.gradient(loss_v, model.W)\n",
        "        #db = t.gradient(loss_v, model.b)\n",
        "\n",
        "\n",
        "        #cập nhật tham số\n",
        "\n",
        "        model.W.assign_sub(learning_rate*dW)  \n",
        "\n",
        "        #Có thể viết cách khác model.W = model.W - learning_rate*dW \n",
        "        model.b.assign_sub(learning_rate*db)\n",
        "\n"
      ],
      "metadata": {
        "id": "28ii23Ihd3sC"
      },
      "execution_count": 9,
      "outputs": []
    },
    {
      "cell_type": "code",
      "source": [
        "import matplotlib.pyplot as plt\n",
        "\n",
        "#vẽ hàm mất mát\n",
        "\n",
        "plt.plot(losses)\n",
        "plt.xlabel('iteration')\n",
        "plt.ylabel('Loss')\n",
        "plt.show()"
      ],
      "metadata": {
        "colab": {
          "base_uri": "https://localhost:8080/",
          "height": 279
        },
        "id": "q0mAmgMgELdr",
        "outputId": "be3dec73-f0cc-4f4b-bd9b-3a81c3038447"
      },
      "execution_count": 10,
      "outputs": [
        {
          "output_type": "display_data",
          "data": {
            "text/plain": [
              "<Figure size 432x288 with 1 Axes>"
            ],
            "image/png": "[encoded data removed]"
          },
          "metadata": {
            "needs_background": "light"
          }
        }
      ]
    },
    {
      "cell_type": "code",
      "source": [
        "model.W"
      ],
      "metadata": {
        "colab": {
          "base_uri": "https://localhost:8080/"
        },
        "id": "5JyBJc34GM2e",
        "outputId": "8b3f3f8c-2114-4fb6-c092-165d95a61e75"
      },
      "execution_count": 11,
      "outputs": [
        {
          "output_type": "execute_result",
          "data": {
            "text/plain": [
              "<tf.Variable 'Variable:0' shape=() dtype=float32, numpy=1.2492946>"
            ]
          },
          "metadata": {},
          "execution_count": 11
        }
      ]
    },
    {
      "cell_type": "code",
      "source": [
        "y_hat = model(X)\n",
        "print(y_hat)"
      ],
      "metadata": {
        "colab": {
          "base_uri": "https://localhost:8080/"
        },
        "id": "Wx26XcXlEfR8",
        "outputId": "e421c346-0712-444f-eea0-1113e4c29cfe"
      },
      "execution_count": 12,
      "outputs": [
        {
          "output_type": "stream",
          "name": "stdout",
          "text": [
            "tf.Tensor(\n",
            "[[8.637505 ]\n",
            " [6.0139856]\n",
            " [4.639762 ]\n",
            " [7.138351 ]], shape=(4, 1), dtype=float32)\n"
          ]
        }
      ]
    },
    {
      "cell_type": "code",
      "source": [
        ""
      ],
      "metadata": {
        "id": "F7LBq_m3FAd2"
      },
      "execution_count": 12,
      "outputs": []
    },
    {
      "cell_type": "code",
      "source": [
        ""
      ],
      "metadata": {
        "id": "n0O4qBpq8dks"
      },
      "execution_count": 12,
      "outputs": []
    },
    {
      "cell_type": "code",
      "source": [
        ""
      ],
      "metadata": {
        "id": "jodVqrj28dfm"
      },
      "execution_count": 12,
      "outputs": []
    },
    {
      "cell_type": "markdown",
      "source": [
        "**Cách 2**"
      ],
      "metadata": {
        "id": "lj5zRgVZ8fHi"
      }
    },
    {
      "cell_type": "code",
      "source": [
        "import numpy as np\n",
        "import tensorflow as tf\n",
        "from google.colab import drive #cách lấy dữ liệu trên google.colab \n",
        "drive.mount('/content/gdrive')\n",
        "data = np.genfromtxt('/content/gdrive/MyDrive/Colab Notebooks/Data/data.csv',delimiter =',')\n",
        "\n",
        "n = 4\n",
        "X = data[:,0:1]\n",
        "y = data[:,1:]\n",
        "W = tf.Variable(-0.34)\n",
        "b = tf.Variable(0.04)\n",
        "def compute_output(X,W,b): #khác ở vị trí tính forward \n",
        "    return W*X+b\n",
        "\n",
        "lr = 0.01\n",
        "epochs = 100\n",
        "losses = []\n",
        "for epoch in range(epochs):\n",
        "    with tf.GradientTape() as t:\n",
        "        y_hat = compute_output(X,W,b)\n",
        "        loss = tf.reduce_mean(tf.square(y_hat-y))\n",
        "    losses.append(loss.numpy())\n",
        "    dW,db = t.gradient(loss,[W,b])\n",
        "    W.assign_sub(lr*dW)\n",
        "    b.assign_sub(lr*db)\n",
        "\n",
        "import matplotlib.pyplot as plt\n",
        "\n",
        "\n",
        "plt.plot(losses)\n",
        "plt.xlabel('iteration')\n",
        "plt.ylabel('Loss')\n",
        "plt.show()"
      ],
      "metadata": {
        "colab": {
          "base_uri": "https://localhost:8080/",
          "height": 317
        },
        "id": "DVPeMe1Q8dcN",
        "outputId": "0445194e-a512-40bc-b55d-f668198b9f54"
      },
      "execution_count": 16,
      "outputs": [
        {
          "output_type": "stream",
          "name": "stdout",
          "text": [
            "Drive already mounted at /content/gdrive; to attempt to forcibly remount, call drive.mount(\"/content/gdrive\", force_remount=True).\n"
          ]
        },
        {
          "output_type": "display_data",
          "data": {
            "text/plain": [
              "<Figure size 432x288 with 1 Axes>"
            ],
            "image/png": "[encoded data removed]"
          },
          "metadata": {
            "needs_background": "light"
          }
        }
      ]
    },
    {
      "cell_type": "code",
      "source": [
        ""
      ],
      "metadata": {
        "id": "8DsKWX41_Ap1"
      },
      "execution_count": null,
      "outputs": []
    }
  ]
}